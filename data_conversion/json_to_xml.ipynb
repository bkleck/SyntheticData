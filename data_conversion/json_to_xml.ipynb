{
  "nbformat": 4,
  "nbformat_minor": 0,
  "metadata": {
    "colab": {
      "name": "json_to_xml.ipynb",
      "provenance": [],
      "collapsed_sections": [
        "n7n3E3K8FyQ4",
        "kcKQUv32LxNS"
      ],
      "authorship_tag": "ABX9TyNhB5EgR981Q3B2w479lMll"
    },
    "kernelspec": {
      "name": "python3",
      "display_name": "Python 3"
    },
    "language_info": {
      "name": "python"
    }
  },
  "cells": [
    {
      "cell_type": "code",
      "metadata": {
        "colab": {
          "base_uri": "https://localhost:8080/"
        },
        "id": "M3iT_YpdwIIo",
        "outputId": "f098531b-aad2-4856-8248-50ffc66f53c0"
      },
      "source": [
        "from google.colab import drive\n",
        "drive.mount('/content/drive')"
      ],
      "execution_count": null,
      "outputs": [
        {
          "output_type": "stream",
          "name": "stdout",
          "text": [
            "Drive already mounted at /content/drive; to attempt to forcibly remount, call drive.mount(\"/content/drive\", force_remount=True).\n"
          ]
        }
      ]
    },
    {
      "cell_type": "code",
      "metadata": {
        "colab": {
          "base_uri": "https://localhost:8080/"
        },
        "id": "Y47lNuH7wTVo",
        "outputId": "8cac45cf-9003-4ae0-f0f0-7e8556475fa1"
      },
      "source": [
        "%cd drive/MyDrive/JnJ Synthetic/labo"
      ],
      "execution_count": null,
      "outputs": [
        {
          "output_type": "stream",
          "name": "stdout",
          "text": [
            "/content/drive/MyDrive/JnJ Synthetic/labo\n"
          ]
        }
      ]
    },
    {
      "cell_type": "code",
      "metadata": {
        "id": "8avYMOMPw3nM"
      },
      "source": [
        "import os\n",
        "import json as j\n",
        "import xml.etree.cElementTree as e\n",
        "from PIL import Image \n",
        "import math"
      ],
      "execution_count": null,
      "outputs": []
    },
    {
      "cell_type": "markdown",
      "metadata": {
        "id": "n7n3E3K8FyQ4"
      },
      "source": [
        "# Trial"
      ]
    },
    {
      "cell_type": "code",
      "metadata": {
        "colab": {
          "base_uri": "https://localhost:8080/"
        },
        "id": "8WmDSSsYy9S8",
        "outputId": "af11a87c-208f-493b-ff87-d7ebe37dadd3"
      },
      "source": [
        "top_folder = '/content/drive/MyDrive/JnJ Synthetic/labo/labo_top_zoom'\n",
        "top_name = 'labo_top_zoom'\n",
        "folder_list = os.listdir(top_folder)\n",
        "print(folder_list)"
      ],
      "execution_count": null,
      "outputs": [
        {
          "output_type": "stream",
          "text": [
            "['Datasetbc231de9-733b-45da-a40f-1c38a47d0c10', 'RGB913d7137-2bb5-48ce-9c16-351c44540d7a']\n"
          ],
          "name": "stdout"
        }
      ]
    },
    {
      "cell_type": "code",
      "metadata": {
        "colab": {
          "base_uri": "https://localhost:8080/"
        },
        "id": "DVpAzC1HzMxn",
        "outputId": "15a2cef0-b191-43ce-c0bc-455291a329c5"
      },
      "source": [
        "result = str([i for i in folder_list if i.startswith('Dataset')][0])\n",
        "print(result)"
      ],
      "execution_count": null,
      "outputs": [
        {
          "output_type": "stream",
          "text": [
            "Datasetbc231de9-733b-45da-a40f-1c38a47d0c10\n"
          ],
          "name": "stdout"
        }
      ]
    },
    {
      "cell_type": "code",
      "metadata": {
        "id": "NvHY9mBszrRg"
      },
      "source": [
        "folder_to_open = top_folder + '/' + result\n",
        "file = folder_to_open + '/captures_000.json'"
      ],
      "execution_count": null,
      "outputs": []
    },
    {
      "cell_type": "code",
      "metadata": {
        "colab": {
          "base_uri": "https://localhost:8080/"
        },
        "id": "WJa3GlFM0JYG",
        "outputId": "35ea16d7-f744-4847-bf23-2583b9823696"
      },
      "source": [
        "with open(file) as json_format_file:\n",
        "    d = j.load(json_format_file)\n",
        "    print(d)"
      ],
      "execution_count": null,
      "outputs": [
        {
          "output_type": "stream",
          "text": [
            "{'version': '0.0.1', 'captures': [{'id': '1873dd05-16b2-4423-a179-517faa9072ff', 'sequence_id': '8f00fbf7-58cf-4a09-806b-ce7b13b41f51', 'step': 0, 'timestamp': 0.0, 'sensor': {'sensor_id': 'c4562f24-5940-4209-bb73-662578f2b995', 'ego_id': '4673d51b-36be-4e59-856e-926a13708264', 'modality': 'camera', 'translation': [0.0, 0.0, 0.0], 'rotation': [0.0, 0.0, 0.0, 1.00000012], 'camera_intrinsic': [[0.5795245, 0.0, 0.0], [0.0, 1.288205, 0.0], [0.0, 0.0, -1.0006001]]}, 'ego': {'ego_id': '4673d51b-36be-4e59-856e-926a13708264', 'translation': [135.2, 353.9, -162.80809], 'rotation': [0.7070006, 0.0122542838, -0.0122542838, 0.7070006], 'velocity': None, 'acceleration': None}, 'filename': 'RGB913d7137-2bb5-48ce-9c16-351c44540d7a/rgb_2.png', 'format': 'PNG', 'annotations': [{'id': 'bbce012a-7039-40a1-982f-db4935e1cfbc', 'annotation_definition': 'f9f22e05-443f-4602-a422-ebe4ea9b55cb', 'values': [{'label_id': 2, 'label_name': 'top', 'instance_id': 1, 'x': 626.0, 'y': 326.0, 'width': 225.0, 'height': 93.0}]}]}, {'id': '558ee2ad-0416-40a3-97fc-fdf6f0d32f49', 'sequence_id': '58422d75-db4b-4483-99ff-5bc6eb3d546d', 'step': 0, 'timestamp': 0.0, 'sensor': {'sensor_id': 'c4562f24-5940-4209-bb73-662578f2b995', 'ego_id': '4673d51b-36be-4e59-856e-926a13708264', 'modality': 'camera', 'translation': [0.0, 0.0, 0.0], 'rotation': [0.0, 0.0, 0.0, 1.00000012], 'camera_intrinsic': [[0.5795245, 0.0, 0.0], [0.0, 1.288205, 0.0], [0.0, 0.0, -1.0006001]]}, 'ego': {'ego_id': '4673d51b-36be-4e59-856e-926a13708264', 'translation': [135.2, 383.9, -162.812134], 'rotation': [0.7070006, 0.0122542838, -0.0122542838, 0.7070006], 'velocity': None, 'acceleration': None}, 'filename': 'RGB913d7137-2bb5-48ce-9c16-351c44540d7a/rgb_3.png', 'format': 'PNG', 'annotations': [{'id': '0dc0357c-fed3-4609-8e61-c05696336ce9', 'annotation_definition': 'f9f22e05-443f-4602-a422-ebe4ea9b55cb', 'values': [{'label_id': 2, 'label_name': 'top', 'instance_id': 1, 'x': 654.0, 'y': 329.0, 'width': 178.0, 'height': 73.0}]}]}, {'id': '123699f3-a9e1-4f91-a347-32d646916841', 'sequence_id': 'c5c1e336-ec63-4089-a9d3-698954c6f5b7', 'step': 0, 'timestamp': 0.0, 'sensor': {'sensor_id': 'c4562f24-5940-4209-bb73-662578f2b995', 'ego_id': '4673d51b-36be-4e59-856e-926a13708264', 'modality': 'camera', 'translation': [0.0, 0.0, 0.0], 'rotation': [0.0, 0.0, 0.0, 1.00000012], 'camera_intrinsic': [[0.5795245, 0.0, 0.0], [0.0, 1.288205, 0.0], [0.0, 0.0, -1.0006001]]}, 'ego': {'ego_id': '4673d51b-36be-4e59-856e-926a13708264', 'translation': [135.2, 413.9, -162.816177], 'rotation': [0.7070006, 0.0122542838, -0.0122542838, 0.7070006], 'velocity': None, 'acceleration': None}, 'filename': 'RGB913d7137-2bb5-48ce-9c16-351c44540d7a/rgb_4.png', 'format': 'PNG', 'annotations': [{'id': '3397e68c-8cda-44a2-a0ab-0f5b796417b4', 'annotation_definition': 'f9f22e05-443f-4602-a422-ebe4ea9b55cb', 'values': [{'label_id': 2, 'label_name': 'top', 'instance_id': 1, 'x': 673.0, 'y': 331.0, 'width': 147.0, 'height': 60.0}]}]}, {'id': '199669d3-5d2c-4947-a3ff-541cd241e138', 'sequence_id': '64dcfe8e-1606-4867-a003-1486eb459c93', 'step': 0, 'timestamp': 0.0, 'sensor': {'sensor_id': 'c4562f24-5940-4209-bb73-662578f2b995', 'ego_id': '4673d51b-36be-4e59-856e-926a13708264', 'modality': 'camera', 'translation': [0.0, 0.0, 0.0], 'rotation': [0.0, 0.0, 0.0, 1.00000012], 'camera_intrinsic': [[0.5795245, 0.0, 0.0], [0.0, 1.288205, 0.0], [0.0, 0.0, -1.0006001]]}, 'ego': {'ego_id': '4673d51b-36be-4e59-856e-926a13708264', 'translation': [135.2, 443.9, -162.820221], 'rotation': [0.7070006, 0.0122542838, -0.0122542838, 0.7070006], 'velocity': None, 'acceleration': None}, 'filename': 'RGB913d7137-2bb5-48ce-9c16-351c44540d7a/rgb_5.png', 'format': 'PNG', 'annotations': [{'id': '37d28bf5-ec20-45cb-9596-cab535a80c56', 'annotation_definition': 'f9f22e05-443f-4602-a422-ebe4ea9b55cb', 'values': [{'label_id': 2, 'label_name': 'top', 'instance_id': 1, 'x': 687.0, 'y': 332.0, 'width': 125.0, 'height': 52.0}]}]}, {'id': '03a5a527-026e-4f15-b39d-032fbf067cbe', 'sequence_id': '9c3f5640-322d-4d49-a109-b08383930c3a', 'step': 0, 'timestamp': 0.0, 'sensor': {'sensor_id': 'c4562f24-5940-4209-bb73-662578f2b995', 'ego_id': '4673d51b-36be-4e59-856e-926a13708264', 'modality': 'camera', 'translation': [0.0, 0.0, 0.0], 'rotation': [0.0, 0.0, 0.0, 1.00000012], 'camera_intrinsic': [[0.5795245, 0.0, 0.0], [0.0, 1.288205, 0.0], [0.0, 0.0, -1.0006001]]}, 'ego': {'ego_id': '4673d51b-36be-4e59-856e-926a13708264', 'translation': [135.2, 473.9, -162.824265], 'rotation': [0.7070006, 0.0122542838, -0.0122542838, 0.7070006], 'velocity': None, 'acceleration': None}, 'filename': 'RGB913d7137-2bb5-48ce-9c16-351c44540d7a/rgb_6.png', 'format': 'PNG', 'annotations': [{'id': '8a117fbd-85a0-4b23-b148-82693223f124', 'annotation_definition': 'f9f22e05-443f-4602-a422-ebe4ea9b55cb', 'values': [{'label_id': 2, 'label_name': 'top', 'instance_id': 1, 'x': 697.0, 'y': 333.0, 'width': 109.0, 'height': 46.0}]}]}, {'id': '8c9e1096-e6af-454e-b27e-f6dda7a6a527', 'sequence_id': '23958e83-f76e-4065-8e2e-801d6fa19ab2', 'step': 0, 'timestamp': 0.0, 'sensor': {'sensor_id': 'c4562f24-5940-4209-bb73-662578f2b995', 'ego_id': '4673d51b-36be-4e59-856e-926a13708264', 'modality': 'camera', 'translation': [0.0, 0.0, 0.0], 'rotation': [0.0, 0.0, 0.0, 1.00000012], 'camera_intrinsic': [[0.5795245, 0.0, 0.0], [0.0, 1.288205, 0.0], [0.0, 0.0, -1.0006001]]}, 'ego': {'ego_id': '4673d51b-36be-4e59-856e-926a13708264', 'translation': [135.2, 503.9, -162.828308], 'rotation': [0.7070006, 0.0122542838, -0.0122542838, 0.7070006], 'velocity': None, 'acceleration': None}, 'filename': 'RGB913d7137-2bb5-48ce-9c16-351c44540d7a/rgb_7.png', 'format': 'PNG', 'annotations': [{'id': '83b1bfeb-c5f7-402b-b114-f4c41e67f73e', 'annotation_definition': 'f9f22e05-443f-4602-a422-ebe4ea9b55cb', 'values': [{'label_id': 2, 'label_name': 'top', 'instance_id': 1, 'x': 705.0, 'y': 334.0, 'width': 96.0, 'height': 41.0}]}]}, {'id': 'c58d89e9-fe2c-426f-873f-ed7d7f828ffc', 'sequence_id': '938a5eda-cbb5-44af-84e1-8cddff7e8c9c', 'step': 0, 'timestamp': 0.0, 'sensor': {'sensor_id': 'c4562f24-5940-4209-bb73-662578f2b995', 'ego_id': '4673d51b-36be-4e59-856e-926a13708264', 'modality': 'camera', 'translation': [0.0, 0.0, 0.0], 'rotation': [0.0, 0.0, 0.0, 1.00000012], 'camera_intrinsic': [[0.5795245, 0.0, 0.0], [0.0, 1.288205, 0.0], [0.0, 0.0, -1.0006001]]}, 'ego': {'ego_id': '4673d51b-36be-4e59-856e-926a13708264', 'translation': [135.2, 533.9, -162.832352], 'rotation': [0.7070006, 0.0122542838, -0.0122542838, 0.7070006], 'velocity': None, 'acceleration': None}, 'filename': 'RGB913d7137-2bb5-48ce-9c16-351c44540d7a/rgb_8.png', 'format': 'PNG', 'annotations': [{'id': '0338ac5c-ef95-423b-b112-0dee0916a93f', 'annotation_definition': 'f9f22e05-443f-4602-a422-ebe4ea9b55cb', 'values': [{'label_id': 2, 'label_name': 'top', 'instance_id': 1, 'x': 711.0, 'y': 335.0, 'width': 87.0, 'height': 36.0}]}]}, {'id': '9f0f710b-33a8-4240-92d7-e6c16f965aac', 'sequence_id': '90d4b53b-a6b2-47a1-9dcc-f2d10168a71e', 'step': 0, 'timestamp': 0.0, 'sensor': {'sensor_id': 'c4562f24-5940-4209-bb73-662578f2b995', 'ego_id': '4673d51b-36be-4e59-856e-926a13708264', 'modality': 'camera', 'translation': [0.0, 0.0, 0.0], 'rotation': [0.0, 0.0, 0.0, 1.00000012], 'camera_intrinsic': [[0.5795245, 0.0, 0.0], [0.0, 1.288205, 0.0], [0.0, 0.0, -1.0006001]]}, 'ego': {'ego_id': '4673d51b-36be-4e59-856e-926a13708264', 'translation': [135.2, 563.9, -162.8364], 'rotation': [0.7070006, 0.0122542838, -0.0122542838, 0.7070006], 'velocity': None, 'acceleration': None}, 'filename': 'RGB913d7137-2bb5-48ce-9c16-351c44540d7a/rgb_9.png', 'format': 'PNG', 'annotations': [{'id': '9352cf2e-a6b4-45b4-942a-00b75892e4f9', 'annotation_definition': 'f9f22e05-443f-4602-a422-ebe4ea9b55cb', 'values': [{'label_id': 2, 'label_name': 'top', 'instance_id': 1, 'x': 716.0, 'y': 336.0, 'width': 79.0, 'height': 33.0}]}]}, {'id': 'faf5e907-7676-4de1-8564-df291ab19a16', 'sequence_id': 'f65db3c0-0e01-437a-9246-db3fe88d0e31', 'step': 0, 'timestamp': 0.0, 'sensor': {'sensor_id': 'c4562f24-5940-4209-bb73-662578f2b995', 'ego_id': '4673d51b-36be-4e59-856e-926a13708264', 'modality': 'camera', 'translation': [0.0, 0.0, 0.0], 'rotation': [0.0, 0.0, 0.0, 1.00000012], 'camera_intrinsic': [[0.5795245, 0.0, 0.0], [0.0, 1.288205, 0.0], [0.0, 0.0, -1.0006001]]}, 'ego': {'ego_id': '4673d51b-36be-4e59-856e-926a13708264', 'translation': [135.2, 593.9, -162.840439], 'rotation': [0.7070006, 0.0122542838, -0.0122542838, 0.7070006], 'velocity': None, 'acceleration': None}, 'filename': 'RGB913d7137-2bb5-48ce-9c16-351c44540d7a/rgb_10.png', 'format': 'PNG', 'annotations': [{'id': 'fe5abefa-3b5b-460a-b865-799b9750c8ac', 'annotation_definition': 'f9f22e05-443f-4602-a422-ebe4ea9b55cb', 'values': [{'label_id': 2, 'label_name': 'top', 'instance_id': 1, 'x': 720.0, 'y': 337.0, 'width': 73.0, 'height': 31.0}]}]}, {'id': '4a1f6c52-9d25-43b8-913f-a59a58756b8c', 'sequence_id': '3e492459-0345-4061-a669-6bdfea1b1c43', 'step': 0, 'timestamp': 0.0, 'sensor': {'sensor_id': 'c4562f24-5940-4209-bb73-662578f2b995', 'ego_id': '4673d51b-36be-4e59-856e-926a13708264', 'modality': 'camera', 'translation': [0.0, 0.0, 0.0], 'rotation': [0.0, 0.0, 0.0, 1.00000012], 'camera_intrinsic': [[0.5795245, 0.0, 0.0], [0.0, 1.288205, 0.0], [0.0, 0.0, -1.0006001]]}, 'ego': {'ego_id': '4673d51b-36be-4e59-856e-926a13708264', 'translation': [135.2, 623.9, -162.844482], 'rotation': [0.7070006, 0.0122542838, -0.0122542838, 0.7070006], 'velocity': None, 'acceleration': None}, 'filename': 'RGB913d7137-2bb5-48ce-9c16-351c44540d7a/rgb_11.png', 'format': 'PNG', 'annotations': [{'id': 'a886500a-4990-4305-88f7-3cb6f6be62af', 'annotation_definition': 'f9f22e05-443f-4602-a422-ebe4ea9b55cb', 'values': [{'label_id': 2, 'label_name': 'top', 'instance_id': 1, 'x': 724.0, 'y': 337.0, 'width': 66.0, 'height': 29.0}]}]}, {'id': '58cb3ce1-3e37-416a-81c3-2e23c70665f3', 'sequence_id': '36d3e29d-215e-4228-8787-43c432be00b1', 'step': 0, 'timestamp': 0.0, 'sensor': {'sensor_id': 'c4562f24-5940-4209-bb73-662578f2b995', 'ego_id': '4673d51b-36be-4e59-856e-926a13708264', 'modality': 'camera', 'translation': [0.0, 0.0, 0.0], 'rotation': [0.0, 0.0, 0.0, 1.00000012], 'camera_intrinsic': [[0.5795245, 0.0, 0.0], [0.0, 1.288205, 0.0], [0.0, 0.0, -1.0006001]]}, 'ego': {'ego_id': '4673d51b-36be-4e59-856e-926a13708264', 'translation': [135.2, 653.9, -162.848526], 'rotation': [0.7070006, 0.0122542838, -0.0122542838, 0.7070006], 'velocity': None, 'acceleration': None}, 'filename': 'RGB913d7137-2bb5-48ce-9c16-351c44540d7a/rgb_12.png', 'format': 'PNG', 'annotations': [{'id': '88a50953-74cd-4889-a968-286239ee2d53', 'annotation_definition': 'f9f22e05-443f-4602-a422-ebe4ea9b55cb', 'values': [{'label_id': 2, 'label_name': 'top', 'instance_id': 1, 'x': 727.0, 'y': 338.0, 'width': 62.0, 'height': 27.0}]}]}, {'id': '547d5d0e-b6b1-472a-b32c-43e51aa6c10e', 'sequence_id': '929eb347-188f-467a-b5c8-02fe4e3c6441', 'step': 0, 'timestamp': 0.0, 'sensor': {'sensor_id': 'c4562f24-5940-4209-bb73-662578f2b995', 'ego_id': '4673d51b-36be-4e59-856e-926a13708264', 'modality': 'camera', 'translation': [0.0, 0.0, 0.0], 'rotation': [0.0, 0.0, 0.0, 1.00000012], 'camera_intrinsic': [[0.5795245, 0.0, 0.0], [0.0, 1.288205, 0.0], [0.0, 0.0, -1.0006001]]}, 'ego': {'ego_id': '4673d51b-36be-4e59-856e-926a13708264', 'translation': [135.2, 683.9, -162.85257], 'rotation': [0.7070006, 0.0122542838, -0.0122542838, 0.7070006], 'velocity': None, 'acceleration': None}, 'filename': 'RGB913d7137-2bb5-48ce-9c16-351c44540d7a/rgb_13.png', 'format': 'PNG', 'annotations': [{'id': '85ba0eab-8c0e-4467-8fe9-c3f5a9bc2e3f', 'annotation_definition': 'f9f22e05-443f-4602-a422-ebe4ea9b55cb', 'values': [{'label_id': 2, 'label_name': 'top', 'instance_id': 1, 'x': 730.0, 'y': 338.0, 'width': 57.0, 'height': 26.0}]}]}, {'id': '630ae974-181a-42ba-b7f8-be10ef48d721', 'sequence_id': 'ae1f1936-5920-4719-87d4-af761d8b8c24', 'step': 0, 'timestamp': 0.0, 'sensor': {'sensor_id': 'c4562f24-5940-4209-bb73-662578f2b995', 'ego_id': '4673d51b-36be-4e59-856e-926a13708264', 'modality': 'camera', 'translation': [0.0, 0.0, 0.0], 'rotation': [0.0, 0.0, 0.0, 1.00000012], 'camera_intrinsic': [[0.5795245, 0.0, 0.0], [0.0, 1.288205, 0.0], [0.0, 0.0, -1.0006001]]}, 'ego': {'ego_id': '4673d51b-36be-4e59-856e-926a13708264', 'translation': [135.2, 713.9, -162.856613], 'rotation': [0.7070006, 0.0122542838, -0.0122542838, 0.7070006], 'velocity': None, 'acceleration': None}, 'filename': 'RGB913d7137-2bb5-48ce-9c16-351c44540d7a/rgb_14.png', 'format': 'PNG', 'annotations': [{'id': 'dd45ca47-1ec3-4593-bc7d-ad4214eefd72', 'annotation_definition': 'f9f22e05-443f-4602-a422-ebe4ea9b55cb', 'values': [{'label_id': 2, 'label_name': 'top', 'instance_id': 1, 'x': 732.0, 'y': 338.0, 'width': 54.0, 'height': 25.0}]}]}, {'id': 'd42f9d85-43dd-467d-9a14-a145d1b9fcd5', 'sequence_id': 'fa64d393-4c7d-4769-8dfa-2d666f39f813', 'step': 0, 'timestamp': 0.0, 'sensor': {'sensor_id': 'c4562f24-5940-4209-bb73-662578f2b995', 'ego_id': '4673d51b-36be-4e59-856e-926a13708264', 'modality': 'camera', 'translation': [0.0, 0.0, 0.0], 'rotation': [0.0, 0.0, 0.0, 1.00000012], 'camera_intrinsic': [[0.5795245, 0.0, 0.0], [0.0, 1.288205, 0.0], [0.0, 0.0, -1.0006001]]}, 'ego': {'ego_id': '4673d51b-36be-4e59-856e-926a13708264', 'translation': [135.2, 743.9, -162.860657], 'rotation': [0.7070006, 0.0122542838, -0.0122542838, 0.7070006], 'velocity': None, 'acceleration': None}, 'filename': 'RGB913d7137-2bb5-48ce-9c16-351c44540d7a/rgb_15.png', 'format': 'PNG', 'annotations': [{'id': '8054acc5-6864-42b9-aa65-55780015701e', 'annotation_definition': 'f9f22e05-443f-4602-a422-ebe4ea9b55cb', 'values': [{'label_id': 2, 'label_name': 'top', 'instance_id': 1, 'x': 734.0, 'y': 340.0, 'width': 51.0, 'height': 22.0}]}]}, {'id': 'a5496e77-34df-4866-a3e8-1bd06b3d11d9', 'sequence_id': 'f6ebc46a-afdd-4e4d-b23b-e4be214c53b9', 'step': 0, 'timestamp': 0.0, 'sensor': {'sensor_id': 'c4562f24-5940-4209-bb73-662578f2b995', 'ego_id': '4673d51b-36be-4e59-856e-926a13708264', 'modality': 'camera', 'translation': [0.0, 0.0, 0.0], 'rotation': [0.0, 0.0, 0.0, 1.00000012], 'camera_intrinsic': [[0.5795245, 0.0, 0.0], [0.0, 1.288205, 0.0], [0.0, 0.0, -1.0006001]]}, 'ego': {'ego_id': '4673d51b-36be-4e59-856e-926a13708264', 'translation': [135.2, 773.9, -162.8647], 'rotation': [0.7070006, 0.0122542838, -0.0122542838, 0.7070006], 'velocity': None, 'acceleration': None}, 'filename': 'RGB913d7137-2bb5-48ce-9c16-351c44540d7a/rgb_16.png', 'format': 'PNG', 'annotations': [{'id': 'ea9a6d2a-859d-4c81-aec5-36ad180095cf', 'annotation_definition': 'f9f22e05-443f-4602-a422-ebe4ea9b55cb', 'values': [{'label_id': 2, 'label_name': 'top', 'instance_id': 1, 'x': 736.0, 'y': 340.0, 'width': 48.0, 'height': 21.0}]}]}, {'id': 'd2970a64-2507-4d92-a73b-e3c641ecdd1b', 'sequence_id': '6ea481d7-328b-4601-bfb3-b63cff440bda', 'step': 0, 'timestamp': 0.0, 'sensor': {'sensor_id': 'c4562f24-5940-4209-bb73-662578f2b995', 'ego_id': '4673d51b-36be-4e59-856e-926a13708264', 'modality': 'camera', 'translation': [0.0, 0.0, 0.0], 'rotation': [0.0, 0.0, 0.0, 1.00000012], 'camera_intrinsic': [[0.5795245, 0.0, 0.0], [0.0, 1.288205, 0.0], [0.0, 0.0, -1.0006001]]}, 'ego': {'ego_id': '4673d51b-36be-4e59-856e-926a13708264', 'translation': [135.2, 803.9, -162.868744], 'rotation': [0.7070006, 0.0122542838, -0.0122542838, 0.7070006], 'velocity': None, 'acceleration': None}, 'filename': 'RGB913d7137-2bb5-48ce-9c16-351c44540d7a/rgb_17.png', 'format': 'PNG', 'annotations': [{'id': '489af47d-cd6c-4443-89f4-f6e0a41c78ab', 'annotation_definition': 'f9f22e05-443f-4602-a422-ebe4ea9b55cb', 'values': [{'label_id': 2, 'label_name': 'top', 'instance_id': 1, 'x': 738.0, 'y': 341.0, 'width': 45.0, 'height': 19.0}]}]}, {'id': '509113b5-9e02-482b-875b-cf14d3a24465', 'sequence_id': '8436b2a1-55ca-40fb-97f3-7b115ea5a081', 'step': 0, 'timestamp': 0.0, 'sensor': {'sensor_id': 'c4562f24-5940-4209-bb73-662578f2b995', 'ego_id': '4673d51b-36be-4e59-856e-926a13708264', 'modality': 'camera', 'translation': [0.0, 0.0, 0.0], 'rotation': [0.0, 0.0, 0.0, 1.00000012], 'camera_intrinsic': [[0.5795245, 0.0, 0.0], [0.0, 1.288205, 0.0], [0.0, 0.0, -1.0006001]]}, 'ego': {'ego_id': '4673d51b-36be-4e59-856e-926a13708264', 'translation': [135.2, 833.9, -162.872787], 'rotation': [0.7070006, 0.0122542838, -0.0122542838, 0.7070006], 'velocity': None, 'acceleration': None}, 'filename': 'RGB913d7137-2bb5-48ce-9c16-351c44540d7a/rgb_18.png', 'format': 'PNG', 'annotations': [{'id': 'fc0b70d7-4644-4bfe-af0b-8fcef48bff44', 'annotation_definition': 'f9f22e05-443f-4602-a422-ebe4ea9b55cb', 'values': [{'label_id': 2, 'label_name': 'top', 'instance_id': 1, 'x': 739.0, 'y': 340.0, 'width': 43.0, 'height': 20.0}]}]}, {'id': '9034f794-4ff9-4482-a732-472d955fb736', 'sequence_id': '93b32164-3caf-464b-9829-5120576ebd8f', 'step': 0, 'timestamp': 0.0, 'sensor': {'sensor_id': 'c4562f24-5940-4209-bb73-662578f2b995', 'ego_id': '4673d51b-36be-4e59-856e-926a13708264', 'modality': 'camera', 'translation': [0.0, 0.0, 0.0], 'rotation': [0.0, 0.0, 0.0, 1.00000012], 'camera_intrinsic': [[0.5795245, 0.0, 0.0], [0.0, 1.288205, 0.0], [0.0, 0.0, -1.0006001]]}, 'ego': {'ego_id': '4673d51b-36be-4e59-856e-926a13708264', 'translation': [135.2, 863.9, -162.876831], 'rotation': [0.7070006, 0.0122542838, -0.0122542838, 0.7070006], 'velocity': None, 'acceleration': None}, 'filename': 'RGB913d7137-2bb5-48ce-9c16-351c44540d7a/rgb_19.png', 'format': 'PNG', 'annotations': [{'id': '07642249-0c12-4c9a-bfa6-f461afc9eae6', 'annotation_definition': 'f9f22e05-443f-4602-a422-ebe4ea9b55cb', 'values': [{'label_id': 2, 'label_name': 'top', 'instance_id': 1, 'x': 740.0, 'y': 340.0, 'width': 42.0, 'height': 19.0}]}]}, {'id': 'c00293aa-a85d-49c0-8668-0478635507b6', 'sequence_id': '88986601-1a02-4a54-a072-824c095a4c1c', 'step': 0, 'timestamp': 0.0, 'sensor': {'sensor_id': 'c4562f24-5940-4209-bb73-662578f2b995', 'ego_id': '4673d51b-36be-4e59-856e-926a13708264', 'modality': 'camera', 'translation': [0.0, 0.0, 0.0], 'rotation': [0.0, 0.0, 0.0, 1.00000012], 'camera_intrinsic': [[0.5795245, 0.0, 0.0], [0.0, 1.288205, 0.0], [0.0, 0.0, -1.0006001]]}, 'ego': {'ego_id': '4673d51b-36be-4e59-856e-926a13708264', 'translation': [135.2, 893.9, -162.880875], 'rotation': [0.7070006, 0.0122542838, -0.0122542838, 0.7070006], 'velocity': None, 'acceleration': None}, 'filename': 'RGB913d7137-2bb5-48ce-9c16-351c44540d7a/rgb_20.png', 'format': 'PNG', 'annotations': [{'id': '535d3abe-103e-4edb-9d37-c984330ef77b', 'annotation_definition': 'f9f22e05-443f-4602-a422-ebe4ea9b55cb', 'values': [{'label_id': 2, 'label_name': 'top', 'instance_id': 1, 'x': 742.0, 'y': 340.0, 'width': 39.0, 'height': 19.0}]}]}, {'id': 'b4832cd9-2b18-487f-9368-0303b5afe761', 'sequence_id': '57cc1a2a-fb5d-45a0-819a-7d904ecfe072', 'step': 0, 'timestamp': 0.0, 'sensor': {'sensor_id': 'c4562f24-5940-4209-bb73-662578f2b995', 'ego_id': '4673d51b-36be-4e59-856e-926a13708264', 'modality': 'camera', 'translation': [0.0, 0.0, 0.0], 'rotation': [0.0, 0.0, 0.0, 1.00000012], 'camera_intrinsic': [[0.5795245, 0.0, 0.0], [0.0, 1.288205, 0.0], [0.0, 0.0, -1.0006001]]}, 'ego': {'ego_id': '4673d51b-36be-4e59-856e-926a13708264', 'translation': [135.2, 923.9, -162.884918], 'rotation': [0.7070006, 0.0122542838, -0.0122542838, 0.7070006], 'velocity': None, 'acceleration': None}, 'filename': 'RGB913d7137-2bb5-48ce-9c16-351c44540d7a/rgb_21.png', 'format': 'PNG', 'annotations': [{'id': '718db041-c137-4e74-a220-0eaf2f831590', 'annotation_definition': 'f9f22e05-443f-4602-a422-ebe4ea9b55cb', 'values': [{'label_id': 2, 'label_name': 'top', 'instance_id': 1, 'x': 743.0, 'y': 341.0, 'width': 37.0, 'height': 17.0}]}]}]}\n"
          ],
          "name": "stdout"
        }
      ]
    },
    {
      "cell_type": "code",
      "metadata": {
        "id": "DFRKb4c_01PW"
      },
      "source": [
        "#create root element\n",
        "r = e.Element('annotations')\n",
        "\n",
        "#create sub-elements\n",
        "e.SubElement(r, 'folder').text = top_name\n",
        "\n",
        "item = d['captures'][0]\n",
        "e.SubElement(r, 'filename').text = item['filename']\n",
        "\n",
        "e.SubElement(r, 'path').text = top_folder + '/' item['filename']\n",
        "\n",
        "source = e.SubElement(r, 'source')\n",
        "e.SubElement(source, 'database').text = 'Unknown'\n",
        "\n",
        "values = item['annotations'][0]['values']\n",
        "\n",
        "size = e.SubElement(r, 'size')\n",
        "e.SubElement(size, 'width').text = str(values[0]['width'])\n",
        "e.SubElement(size, 'height').text = str(values[0]['height'])\n",
        "e.SubElement(size, 'depth').text = str(3)\n",
        "\n",
        "e.SubElement(r, 'segmented').text = str(0)\n",
        "\n",
        "obj = e.SubElement(r, 'object')\n",
        "e.SubElement(obj, 'name').text = values[0]['label_name']\n",
        "e.SubElement(obj, 'pose').text = 'Unspecified'\n",
        "e.SubElement(obj, 'truncated').text = '0'\n",
        "e.SubElement(obj, 'difficult').text = '0'\n",
        "\n",
        "#calculate bounding box dimensions\n",
        "box = e.SubElement(r, 'bndbox')\n",
        "\n",
        "height = values[0]['height']\n",
        "width = values[0]['width']\n",
        "x = values[0]['x']\n",
        "y = values[0]['y']\n",
        "\n",
        "# x/y min and x/y max are top left and bottom right corners respectively\n",
        "# x/y refers to top left corner\n",
        "xmin = x\n",
        "ymin = y\n",
        "xmax = width + xmin\n",
        "ymax = height + ymin\n",
        "\n",
        "# xmin = x - half_width\n",
        "# xmax = x + half_width\n",
        "# ymin = y - half_height\n",
        "# ymax = y + half_height\n",
        "\n",
        "e.SubElement(box, 'xmin').text = str(xmin)\n",
        "e.SubElement(box, 'ymin').text = str(ymin)\n",
        "e.SubElement(box, 'xmax').text = str(xmax)\n",
        "e.SubElement(box, 'ymax').text = str(ymax)\n",
        "\n",
        "# build XML tree\n",
        "a = e.ElementTree(r)\n",
        "a.write(top_name + '/' + item['filename'] + 'xml')"
      ],
      "execution_count": null,
      "outputs": []
    },
    {
      "cell_type": "code",
      "metadata": {
        "colab": {
          "base_uri": "https://localhost:8080/"
        },
        "id": "2d9QdHI125ex",
        "outputId": "cc307dad-dbfe-4897-a5d2-55561e385db6"
      },
      "source": [
        "print(d['captures'][0])"
      ],
      "execution_count": null,
      "outputs": [
        {
          "output_type": "stream",
          "text": [
            "{'id': '1873dd05-16b2-4423-a179-517faa9072ff', 'sequence_id': '8f00fbf7-58cf-4a09-806b-ce7b13b41f51', 'step': 0, 'timestamp': 0.0, 'sensor': {'sensor_id': 'c4562f24-5940-4209-bb73-662578f2b995', 'ego_id': '4673d51b-36be-4e59-856e-926a13708264', 'modality': 'camera', 'translation': [0.0, 0.0, 0.0], 'rotation': [0.0, 0.0, 0.0, 1.00000012], 'camera_intrinsic': [[0.5795245, 0.0, 0.0], [0.0, 1.288205, 0.0], [0.0, 0.0, -1.0006001]]}, 'ego': {'ego_id': '4673d51b-36be-4e59-856e-926a13708264', 'translation': [135.2, 353.9, -162.80809], 'rotation': [0.7070006, 0.0122542838, -0.0122542838, 0.7070006], 'velocity': None, 'acceleration': None}, 'filename': 'RGB913d7137-2bb5-48ce-9c16-351c44540d7a/rgb_2.png', 'format': 'PNG', 'annotations': [{'id': 'bbce012a-7039-40a1-982f-db4935e1cfbc', 'annotation_definition': 'f9f22e05-443f-4602-a422-ebe4ea9b55cb', 'values': [{'label_id': 2, 'label_name': 'top', 'instance_id': 1, 'x': 626.0, 'y': 326.0, 'width': 225.0, 'height': 93.0}]}]}\n"
          ],
          "name": "stdout"
        }
      ]
    },
    {
      "cell_type": "code",
      "metadata": {
        "colab": {
          "base_uri": "https://localhost:8080/"
        },
        "id": "Uj17hMy927mc",
        "outputId": "fbfd2d68-4234-46be-a942-812e5b3c8bae"
      },
      "source": [
        "print(item['annotations'][0]['values'])"
      ],
      "execution_count": null,
      "outputs": [
        {
          "output_type": "stream",
          "text": [
            "[{'label_id': 2, 'label_name': 'top', 'instance_id': 1, 'x': 626.0, 'y': 326.0, 'width': 225.0, 'height': 93.0}]\n"
          ],
          "name": "stdout"
        }
      ]
    },
    {
      "cell_type": "markdown",
      "metadata": {
        "id": "N_JAzUjDF0cp"
      },
      "source": [
        "# Pipeline"
      ]
    },
    {
      "cell_type": "code",
      "metadata": {
        "colab": {
          "base_uri": "https://localhost:8080/"
        },
        "id": "qrVsM54e_GUz",
        "outputId": "4fa561f2-5846-4d82-ee40-22c0d0d05114"
      },
      "source": [
        "main_path = '/content/drive/MyDrive/JnJ Synthetic/labo'\n",
        "outer_folders = os.listdir(main_path)\n",
        "print(outer_folders)"
      ],
      "execution_count": null,
      "outputs": [
        {
          "output_type": "stream",
          "name": "stdout",
          "text": [
            "['labo_back_bg', 'labo_back_light', 'labo_back_zoom', 'labo_btm_bg', 'labo_btm_light', 'labo_btm_zoom', 'labo_front_bg', 'labo_front_light', 'labo_front_zoom', 'labo_top_bg', 'labo_top_light', 'labo_top_zoom']\n"
          ]
        }
      ]
    },
    {
      "cell_type": "code",
      "metadata": {
        "id": "mygeLBGbVQVM"
      },
      "source": [
        "# convert all PNG images to JPG\n",
        "for folder in outer_folders:\n",
        "  inner_folders = os.listdir(folder)\n",
        "\n",
        "  # get the folder with name starting with RGB\n",
        "  result = str([i for i in inner_folders if i.startswith('RGB')][0])\n",
        "\n",
        "  # get path to RGB folder\n",
        "  folder_to_open = folder + '/' + result\n",
        "\n",
        "  # make image folder\n",
        "  img_path = main_path + '/' + folder + '/images'\n",
        "  try:\n",
        "    os.mkdir(img_path)\n",
        "  except FileExistsError:\n",
        "    # directory already exists\n",
        "    pass\n",
        "\n",
        "  for file in os.listdir(folder_to_open): \n",
        "    # open each file ending with PNG\n",
        "    if file.endswith(\".png\"): \n",
        "        img = Image.open(folder_to_open + '/' + file)\n",
        "        # convert RGBA to RGB\n",
        "        rgb_img = img.convert('RGB')\n",
        "        file_name, file_ext = os.path.splitext(file)\n",
        "\n",
        "        # save each new image to images folder with .JPG\n",
        "        # save with top folder name\n",
        "        file_name = '{}_{}'.format(folder, file_name)\n",
        "        rgb_img.save('{}/{}.jpg'.format(img_path, file_name))"
      ],
      "execution_count": null,
      "outputs": []
    },
    {
      "cell_type": "code",
      "metadata": {
        "id": "lFZKUEsPILua"
      },
      "source": [
        "# function to convert JSON to XML format\n",
        "# input in folder name\n",
        "# outputs 1 XML per image\n",
        "\n",
        "def json_to_xml(top_name, main_path):\n",
        "  # iterate through every RGB image\n",
        "  for item in d['captures']:\n",
        "    top_folder = main_path + '/' + top_name\n",
        "\n",
        "    #create root element\n",
        "    r = e.Element('annotation')\n",
        "\n",
        "    #create sub-elements\n",
        "    e.SubElement(r, 'folder').text = top_name\n",
        "\n",
        "    # take only the name after the /\n",
        "    filename = item['filename'].split('/')[1]\n",
        "    # add folder suffix infront to image name\n",
        "    filename = '{}_{}'.format(folder, filename)\n",
        "    # replace .png with .jpg to match new image file\n",
        "    filename = filename.replace('.png', '.jpg')\n",
        "    e.SubElement(r, 'filename').text = filename\n",
        "\n",
        "    e.SubElement(r, 'path').text = top_folder + '/' + item['filename']\n",
        "\n",
        "    source = e.SubElement(r, 'source')\n",
        "    e.SubElement(source, 'database').text = 'Unknown'\n",
        "\n",
        "    values = item['annotations'][0]['values']\n",
        "\n",
        "    size = e.SubElement(r, 'size')\n",
        "    e.SubElement(size, 'width').text = str(math.trunc(values[0]['width']))\n",
        "    e.SubElement(size, 'height').text = str(math.trunc(values[0]['height']))\n",
        "    e.SubElement(size, 'depth').text = str(3)\n",
        "\n",
        "    e.SubElement(r, 'segmented').text = str(0)\n",
        "\n",
        "    obj = e.SubElement(r, 'object')\n",
        "    e.SubElement(obj, 'name').text = values[0]['label_name']\n",
        "    e.SubElement(obj, 'pose').text = 'Unspecified'\n",
        "    e.SubElement(obj, 'truncated').text = '0'\n",
        "    e.SubElement(obj, 'difficult').text = '0'\n",
        "\n",
        "    #calculate bounding box dimensions\n",
        "    box = e.SubElement(obj, 'bndbox')\n",
        "\n",
        "    height = values[0]['height']\n",
        "    width = values[0]['width']\n",
        "    x = values[0]['x']\n",
        "    y = values[0]['y']\n",
        "\n",
        "    # x/y min and x/y max are top left and bottom right corners respectively\n",
        "    # x/y refers to top left corner\n",
        "    xmin = x\n",
        "    ymin = y\n",
        "    xmax = width + xmin\n",
        "    ymax = height + ymin\n",
        "\n",
        "    e.SubElement(box, 'xmin').text = str(int(xmin))\n",
        "    e.SubElement(box, 'ymin').text = str(int(ymin))\n",
        "    e.SubElement(box, 'xmax').text = str(int(xmax))\n",
        "    e.SubElement(box, 'ymax').text = str(int(ymax))\n",
        "\n",
        "    # build XML tree\n",
        "    a = e.ElementTree(r)\n",
        "\n",
        "    # make annotations folder\n",
        "    annot_path = top_name + '/annotations'\n",
        "    try:\n",
        "      os.mkdir(annot_path)\n",
        "    except FileExistsError:\n",
        "      # directory already exists\n",
        "      pass\n",
        "\n",
        "    ammended_name = filename.replace('.jpg', '')\n",
        "    a.write(annot_path + '/' + ammended_name + '.xml')"
      ],
      "execution_count": null,
      "outputs": []
    },
    {
      "cell_type": "code",
      "metadata": {
        "colab": {
          "base_uri": "https://localhost:8080/"
        },
        "id": "JpJiS2nfG6x5",
        "outputId": "7bb189c6-6ffc-46d9-bb16-4605d7993480"
      },
      "source": [
        "# iterate through each folder output from Unity Perception\n",
        "for folder in outer_folders:\n",
        "  inner_folders = os.listdir(folder)\n",
        "  # get the folder with name starting with Dataset (contains JSON file)\n",
        "  result = str([i for i in inner_folders if i.startswith('Dataset')][0])\n",
        "\n",
        "  # get path to JSON file\n",
        "  folder_to_open = folder + '/' + result\n",
        "  file = folder_to_open + '/captures_000.json'\n",
        "  \n",
        "  # open contents of JSON\n",
        "  with open(file) as json_format_file:\n",
        "    d = j.load(json_format_file)\n",
        "\n",
        "  # convert JSON to XML\n",
        "  json_to_xml(folder, main_path)\n",
        "  print(f'Done with {folder} folder!')"
      ],
      "execution_count": null,
      "outputs": [
        {
          "output_type": "stream",
          "name": "stdout",
          "text": [
            "Done with labo_back_bg folder!\n",
            "Done with labo_back_light folder!\n",
            "Done with labo_back_zoom folder!\n",
            "Done with labo_btm_bg folder!\n",
            "Done with labo_btm_light folder!\n",
            "Done with labo_btm_zoom folder!\n",
            "Done with labo_front_bg folder!\n",
            "Done with labo_front_light folder!\n",
            "Done with labo_front_zoom folder!\n",
            "Done with labo_top_bg folder!\n",
            "Done with labo_top_light folder!\n",
            "Done with labo_top_zoom folder!\n"
          ]
        }
      ]
    },
    {
      "cell_type": "markdown",
      "metadata": {
        "id": "kcKQUv32LxNS"
      },
      "source": [
        "# Visualize images"
      ]
    },
    {
      "cell_type": "code",
      "metadata": {
        "id": "2aFr5TznHQ2e"
      },
      "source": [
        "import os\n",
        "import cv2\n",
        "import  xml.dom.minidom"
      ],
      "execution_count": null,
      "outputs": []
    },
    {
      "cell_type": "code",
      "metadata": {
        "colab": {
          "base_uri": "https://localhost:8080/"
        },
        "id": "1rYm5TDRL9-_",
        "outputId": "48172276-f4d7-4f2b-be77-56d715c47fc2"
      },
      "source": [
        "image_path=\"/content/drive/MyDrive/JnJ Synthetic/labo/labo_top_zoom/images/\"\n",
        "annotation_path = \"/content/drive/MyDrive/JnJ Synthetic/labo/labo_top_zoom/annotations/\"\n",
        "\n",
        "files_name = os.listdir(image_path)\n",
        "for filename_ in files_name:\n",
        "\tfilename, extension= os.path.splitext(filename_)\n",
        "\timg_path =image_path+filename+'.jpg'\n",
        "\txml_path =annotation_path+filename+'.xml'\n",
        "\tprint(img_path)\n",
        "\timg = cv2.imread(img_path)\n",
        "\tif img is None:\n",
        "\t\tpass\n",
        "\tdom = xml.dom.minidom.parse(xml_path)\n",
        "\troot = dom.documentElement\n",
        "\tobjects=dom.getElementsByTagName(\"object\")\n",
        "\tprint(objects)\n",
        "\ti=0\n",
        "\tfor object in objects:\n",
        "        \n",
        "\t\tbndbox = root.getElementsByTagName('bndbox')[i]\n",
        "\t\txmin = bndbox.getElementsByTagName('xmin')[0]\n",
        "\t\tymin = bndbox.getElementsByTagName('ymin')[0]\n",
        "\t\txmax = bndbox.getElementsByTagName('xmax')[0]\n",
        "\t\tymax = bndbox.getElementsByTagName('ymax')[0]\n",
        "\t\txmin_data=xmin.childNodes[0].data\n",
        "\t\tymin_data=ymin.childNodes[0].data\n",
        "\t\txmax_data=xmax.childNodes[0].data\n",
        "\t\tymax_data=ymax.childNodes[0].data\n",
        "\t\tprint(object)        \n",
        "\t\tprint(xmin_data)\n",
        "\t\tprint(ymin_data)\n",
        "        \n",
        "\t\ti= i +1 \n",
        "\t\tcv2.rectangle(img,(int(xmin_data),int(ymin_data)),(int(xmax_data),int(ymax_data)),(55,255,155),5)\n",
        "\tflag=0\n",
        "\tflag=cv2.imwrite(\"/content/drive/MyDrive/JnJ Synthetic/labo/labo_top_zoom/visual/{}.jpg\".format(filename),img)\n",
        "\tif(flag):\n",
        "\t\tprint(filename,\"done\")\n",
        "print(\"all done ====================================\")"
      ],
      "execution_count": null,
      "outputs": [
        {
          "output_type": "stream",
          "name": "stdout",
          "text": [
            "/content/drive/MyDrive/JnJ Synthetic/labo/labo_top_zoom/images/rgb_9.jpg\n",
            "[<DOM Element: object at 0x7f39c997e370>]\n",
            "<DOM Element: object at 0x7f39c997e370>\n",
            "716\n",
            "336\n",
            "rgb_9 done\n",
            "/content/drive/MyDrive/JnJ Synthetic/labo/labo_top_zoom/images/rgb_21.jpg\n",
            "[<DOM Element: object at 0x7f39c970e370>]\n",
            "<DOM Element: object at 0x7f39c970e370>\n",
            "743\n",
            "341\n",
            "rgb_21 done\n",
            "/content/drive/MyDrive/JnJ Synthetic/labo/labo_top_zoom/images/rgb_6.jpg\n",
            "[<DOM Element: object at 0x7f39c9720550>]\n",
            "<DOM Element: object at 0x7f39c9720550>\n",
            "697\n",
            "333\n",
            "rgb_6 done\n",
            "/content/drive/MyDrive/JnJ Synthetic/labo/labo_top_zoom/images/rgb_8.jpg\n",
            "[<DOM Element: object at 0x7f39c9719690>]\n",
            "<DOM Element: object at 0x7f39c9719690>\n",
            "711\n",
            "335\n",
            "rgb_8 done\n",
            "/content/drive/MyDrive/JnJ Synthetic/labo/labo_top_zoom/images/rgb_3.jpg\n",
            "[<DOM Element: object at 0x7f39c997c730>]\n",
            "<DOM Element: object at 0x7f39c997c730>\n",
            "654\n",
            "329\n",
            "rgb_3 done\n",
            "/content/drive/MyDrive/JnJ Synthetic/labo/labo_top_zoom/images/rgb_4.jpg\n",
            "[<DOM Element: object at 0x7f39c9712730>]\n",
            "<DOM Element: object at 0x7f39c9712730>\n",
            "673\n",
            "331\n",
            "rgb_4 done\n",
            "/content/drive/MyDrive/JnJ Synthetic/labo/labo_top_zoom/images/rgb_5.jpg\n",
            "[<DOM Element: object at 0x7f39c9710af0>]\n",
            "<DOM Element: object at 0x7f39c9710af0>\n",
            "687\n",
            "332\n",
            "rgb_5 done\n",
            "/content/drive/MyDrive/JnJ Synthetic/labo/labo_top_zoom/images/rgb_7.jpg\n",
            "[<DOM Element: object at 0x7f39c9972370>]\n",
            "<DOM Element: object at 0x7f39c9972370>\n",
            "705\n",
            "334\n",
            "rgb_7 done\n",
            "/content/drive/MyDrive/JnJ Synthetic/labo/labo_top_zoom/images/rgb_20.jpg\n",
            "[<DOM Element: object at 0x7f39c9739190>]\n",
            "<DOM Element: object at 0x7f39c9739190>\n",
            "742\n",
            "340\n",
            "rgb_20 done\n",
            "/content/drive/MyDrive/JnJ Synthetic/labo/labo_top_zoom/images/rgb_17.jpg\n",
            "[<DOM Element: object at 0x7f39c9739f50>]\n",
            "<DOM Element: object at 0x7f39c9739f50>\n",
            "738\n",
            "341\n",
            "rgb_17 done\n",
            "/content/drive/MyDrive/JnJ Synthetic/labo/labo_top_zoom/images/rgb_18.jpg\n",
            "[<DOM Element: object at 0x7f39c9731e10>]\n",
            "<DOM Element: object at 0x7f39c9731e10>\n",
            "739\n",
            "340\n",
            "rgb_18 done\n",
            "/content/drive/MyDrive/JnJ Synthetic/labo/labo_top_zoom/images/rgb_19.jpg\n",
            "[<DOM Element: object at 0x7f39c9729b90>]\n",
            "<DOM Element: object at 0x7f39c9729b90>\n",
            "740\n",
            "340\n",
            "rgb_19 done\n",
            "/content/drive/MyDrive/JnJ Synthetic/labo/labo_top_zoom/images/rgb_15.jpg\n",
            "[<DOM Element: object at 0x7f39c997eaf0>]\n",
            "<DOM Element: object at 0x7f39c997eaf0>\n",
            "734\n",
            "340\n",
            "rgb_15 done\n",
            "/content/drive/MyDrive/JnJ Synthetic/labo/labo_top_zoom/images/rgb_16.jpg\n",
            "[<DOM Element: object at 0x7f39c9719690>]\n",
            "<DOM Element: object at 0x7f39c9719690>\n",
            "736\n",
            "340\n",
            "rgb_16 done\n",
            "/content/drive/MyDrive/JnJ Synthetic/labo/labo_top_zoom/images/rgb_14.jpg\n",
            "[<DOM Element: object at 0x7f39c9983e10>]\n",
            "<DOM Element: object at 0x7f39c9983e10>\n",
            "732\n",
            "338\n",
            "rgb_14 done\n",
            "/content/drive/MyDrive/JnJ Synthetic/labo/labo_top_zoom/images/rgb_13.jpg\n",
            "[<DOM Element: object at 0x7f39c970e0f0>]\n",
            "<DOM Element: object at 0x7f39c970e0f0>\n",
            "730\n",
            "338\n",
            "rgb_13 done\n",
            "/content/drive/MyDrive/JnJ Synthetic/labo/labo_top_zoom/images/rgb_2.jpg\n",
            "[<DOM Element: object at 0x7f39c9736550>]\n",
            "<DOM Element: object at 0x7f39c9736550>\n",
            "626\n",
            "326\n",
            "rgb_2 done\n",
            "/content/drive/MyDrive/JnJ Synthetic/labo/labo_top_zoom/images/rgb_12.jpg\n",
            "[<DOM Element: object at 0x7f39c9972370>]\n",
            "<DOM Element: object at 0x7f39c9972370>\n",
            "727\n",
            "338\n",
            "rgb_12 done\n",
            "/content/drive/MyDrive/JnJ Synthetic/labo/labo_top_zoom/images/rgb_11.jpg\n",
            "[<DOM Element: object at 0x7f39c9710190>]\n",
            "<DOM Element: object at 0x7f39c9710190>\n",
            "724\n",
            "337\n",
            "rgb_11 done\n",
            "/content/drive/MyDrive/JnJ Synthetic/labo/labo_top_zoom/images/rgb_10.jpg\n",
            "[<DOM Element: object at 0x7f39c9710cd0>]\n",
            "<DOM Element: object at 0x7f39c9710cd0>\n",
            "720\n",
            "337\n",
            "rgb_10 done\n",
            "all done ====================================\n"
          ]
        }
      ]
    },
    {
      "cell_type": "markdown",
      "metadata": {
        "id": "3tzwHJHr3g8t"
      },
      "source": [
        "# Copy files into single directory"
      ]
    },
    {
      "cell_type": "code",
      "metadata": {
        "id": "IoiPAoxbcsD6"
      },
      "source": [
        "from distutils.dir_util import copy_tree"
      ],
      "execution_count": null,
      "outputs": []
    },
    {
      "cell_type": "code",
      "metadata": {
        "colab": {
          "base_uri": "https://localhost:8080/"
        },
        "id": "BriiIs5n3vRI",
        "outputId": "42b42d08-cb91-4628-8589-1e93cb9566f2"
      },
      "source": [
        "for folder in outer_folders:\n",
        "  inner_folders = os.listdir(folder)\n",
        "\n",
        "  # get the image folder\n",
        "  img = str([i for i in inner_folders if i.startswith('images')][0])\n",
        "  img_path = folder + '/' + img\n",
        "\n",
        "  # get the annotations folder\n",
        "  anno = str([i for i in inner_folders if i.startswith('annotations')][0])\n",
        "  anno_path = folder + '/' + anno\n",
        "\n",
        "  copy_tree(img_path, \"/content/drive/MyDrive/JnJ Synthetic/labo/final labo\")\n",
        "  copy_tree(anno_path, \"/content/drive/MyDrive/JnJ Synthetic/labo/final labo\")\n",
        "  print(f'Done with {folder} folder!')"
      ],
      "execution_count": null,
      "outputs": [
        {
          "output_type": "stream",
          "name": "stdout",
          "text": [
            "Done with labo_back_bg folder!\n",
            "Done with labo_back_light folder!\n",
            "Done with labo_back_zoom folder!\n",
            "Done with labo_btm_bg folder!\n",
            "Done with labo_btm_light folder!\n",
            "Done with labo_btm_zoom folder!\n",
            "Done with labo_front_bg folder!\n",
            "Done with labo_front_light folder!\n",
            "Done with labo_front_zoom folder!\n",
            "Done with labo_top_bg folder!\n",
            "Done with labo_top_light folder!\n",
            "Done with labo_top_zoom folder!\n"
          ]
        }
      ]
    }
  ]
}